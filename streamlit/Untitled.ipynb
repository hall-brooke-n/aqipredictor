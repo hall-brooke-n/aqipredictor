{
 "cells": [
  {
   "cell_type": "code",
   "execution_count": null,
   "id": "40ab60c3",
   "metadata": {},
   "outputs": [],
   "source": [
    "import streamlit as st\n",
    "import numpy as np\n",
    "import pandas as pd\n",
    "import altair as alt\n",
    "\n",
    "# Page title\n",
    "st.set_page_config(page_title='Interactive Data Explorer', page_icon='📊')\n",
    "st.title('📊 Interactive Data Explorer')\n",
    "\n",
    "with st.expander('About this app'):\n",
    "  st.markdown('**What can this app do?**')\n",
    "  st.info('This app shows the use of Pandas for data wrangling, Altair for chart creation and editable dataframe for data interaction.')\n",
    "  st.markdown('**How to use the app?**')\n",
    "  st.warning('To engage with the app, 1. Select genres of your interest in the drop-down selection box and then 2. Select the year duration from the slider widget. As a result, this should generate an updated editable DataFrame and line plot.')\n",
    "  \n",
    "st.subheader('Which Movie Genre performs ($) best at the box office?')\n",
    "\n",
    "# Load data\n",
    "df = pd.read_csv('data/movies_genres_summary.csv')\n",
    "df.year = df.year.astype('int')\n",
    "\n",
    "# Input widgets\n",
    "## Genres selection\n",
    "genres_list = df.genre.unique()\n",
    "genres_selection = st.multiselect('Select genres', genres_list, ['Action', 'Adventure', 'Biography', 'Comedy', 'Drama', 'Horror'])\n",
    "\n",
    "## Year selection\n",
    "year_list = df.year.unique()\n",
    "year_selection = st.slider('Select year duration', 1986, 2006, (2000, 2016))\n",
    "year_selection_list = list(np.arange(year_selection[0], year_selection[1]+1))\n",
    "\n",
    "df_selection = df[df.genre.isin(genres_selection) & df['year'].isin(year_selection_list)]\n",
    "reshaped_df = df_selection.pivot_table(index='year', columns='genre', values='gross', aggfunc='sum', fill_value=0)\n",
    "reshaped_df = reshaped_df.sort_values(by='year', ascending=False)\n",
    "\n",
    "\n",
    "# Display DataFrame\n",
    "\n",
    "df_editor = st.data_editor(reshaped_df, height=212, use_container_width=True,\n",
    "                            column_config={\"year\": st.column_config.TextColumn(\"Year\")},\n",
    "                            num_rows=\"dynamic\")\n",
    "df_chart = pd.melt(df_editor.reset_index(), id_vars='year', var_name='genre', value_name='gross')\n",
    "\n",
    "# Display chart\n",
    "chart = alt.Chart(df_chart).mark_line().encode(\n",
    "            x=alt.X('year:N', title='Year'),\n",
    "            y=alt.Y('gross:Q', title='Gross earnings ($)'),\n",
    "            color='genre:N'\n",
    "            ).properties(height=320)\n",
    "st.altair_chart(chart, use_container_width=True)"
   ]
  },
  {
   "cell_type": "code",
   "execution_count": null,
   "id": "341574e3",
   "metadata": {},
   "outputs": [],
   "source": []
  },
  {
   "cell_type": "code",
   "execution_count": null,
   "id": "8342e31c",
   "metadata": {},
   "outputs": [],
   "source": []
  },
  {
   "cell_type": "code",
   "execution_count": null,
   "id": "4f111a80",
   "metadata": {},
   "outputs": [],
   "source": []
  },
  {
   "cell_type": "code",
   "execution_count": null,
   "id": "cdae98be",
   "metadata": {},
   "outputs": [],
   "source": []
  },
  {
   "cell_type": "code",
   "execution_count": null,
   "id": "1e2dab2a",
   "metadata": {},
   "outputs": [],
   "source": []
  }
 ],
 "metadata": {
  "kernelspec": {
   "display_name": "Python 3 (ipykernel)",
   "language": "python",
   "name": "python3"
  },
  "language_info": {
   "codemirror_mode": {
    "name": "ipython",
    "version": 3
   },
   "file_extension": ".py",
   "mimetype": "text/x-python",
   "name": "python",
   "nbconvert_exporter": "python",
   "pygments_lexer": "ipython3",
   "version": "3.11.8"
  }
 },
 "nbformat": 4,
 "nbformat_minor": 5
}
